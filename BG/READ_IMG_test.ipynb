{
 "cells": [
  {
   "cell_type": "markdown",
   "id": "higher-event",
   "metadata": {},
   "source": [
    "## 이미지 읽어오는 여러 방법 및 차이점\n",
    "### +) Segmentation Mask는 더 다양한 방식으로 읽힘\n",
    "\n",
    "1. opencv\n",
    "2. PIL\n",
    "3. matplotlib\n",
    "4. tensorflow.keras.preprocessing.image"
   ]
  },
  {
   "cell_type": "code",
   "execution_count": 20,
   "id": "finite-craft",
   "metadata": {},
   "outputs": [],
   "source": [
    "import numpy as np\n",
    "import matplotlib.pyplot as plt\n",
    "# Pascal VOC Dataset\n",
    "IMG_PATH = '/data1/kimbg/voc2012/SegmentationDB/image/2007_000032.jpg'\n",
    "MASK_PATH = '/data1/kimbg/voc2012/SegmentationClass/2007_000032.png'"
   ]
  },
  {
   "cell_type": "code",
   "execution_count": 3,
   "id": "tired-colon",
   "metadata": {},
   "outputs": [],
   "source": [
    "VOC_COLORMAP = [[0, 0, 0], [128, 0, 0], [0, 128, 0], [128, 128, 0],\n",
    "                [0, 0, 128], [128, 0, 128], [0, 128, 128], [128, 128, 128],\n",
    "                [64, 0, 0], [192, 0, 0], [64, 128, 0], [192, 128, 0],\n",
    "                [64, 0, 128], [192, 0, 128], [64, 128, 128], [192, 128, 128],\n",
    "                [0, 64, 0], [128, 64, 0], [0, 192, 0], [128, 192, 0],\n",
    "                [0, 64, 128]]\n",
    "\n",
    "VOC_CLASSES = [\n",
    "    'background', 'aeroplane', 'bicycle', 'bird', 'boat', 'bottle', 'bus',\n",
    "    'car', 'cat', 'chair', 'cow', 'diningtable', 'dog', 'horse', 'motorbike',\n",
    "    'person', 'potted plant', 'sheep', 'sofa', 'train', 'tv/monitor']\n",
    "\n",
    "## 의문 ##\n",
    "# 엣지 클래스도 넣어야하는거 아닌가..???"
   ]
  },
  {
   "cell_type": "markdown",
   "id": "plastic-jefferson",
   "metadata": {},
   "source": [
    "## 1. OPENCV로 이미지 읽어오기"
   ]
  },
  {
   "cell_type": "code",
   "execution_count": 51,
   "id": "fabulous-beast",
   "metadata": {},
   "outputs": [
    {
     "name": "stdout",
     "output_type": "stream",
     "text": [
      "<class 'numpy.ndarray'>\n",
      "(281, 500, 3) (281, 500, 3)\n",
      "cv2의 Type : <class 'numpy.ndarray'>\n",
      "\n",
      "<<cv2_img2>>\n",
      "Shape : (281, 500, 3)\n",
      "Dtype : uint8\n",
      "요소갯수 : 256\n",
      "==================================================\n",
      "<<cv2_mask2>>\n",
      "Shape : (281, 500, 3)\n",
      "Dtype : uint8\n",
      "요소 : {0, 224, 128, 192}\n"
     ]
    },
    {
     "data": {
      "text/plain": [
       "<matplotlib.image.AxesImage at 0x7f5042cf19d0>"
      ]
     },
     "execution_count": 51,
     "metadata": {},
     "output_type": "execute_result"
    },
    {
     "data": {
      "image/png": "[encoded data removed]",
      "text/plain": [
       "<Figure size 432x288 with 1 Axes>"
      ]
     },
     "metadata": {
      "needs_background": "light"
     },
     "output_type": "display_data"
    }
   ],
   "source": [
    "import cv2\n",
    "\n",
    "cv2_img1 = cv2.imread(IMG_PATH) # BGR로 읽어옴, np.array\n",
    "cv2_mask1 = cv2.imread(MASK_PATH)\n",
    "cv2_img2 = cv2.cvtColor(cv2_img1, cv2.COLOR_BGR2RGB) # RGB로 변환\n",
    "cv2_mask2 = cv2.cvtColor(cv2_mask1, cv2.COLOR_BGR2RGB)\n",
    "\n",
    "print(type(cv2_img2))\n",
    "print(cv2_img2.shape, cv2_mask2.shape)\n",
    "\n",
    "print(f'cv2의 Type : {type(cv2_img2)}')\n",
    "print()\n",
    "print('<<cv2_img2>>')\n",
    "print(f'Shape : {cv2_img2.shape}')\n",
    "print(f'Dtype : {cv2_img2.dtype}')\n",
    "print(f'요소갯수 : {len(set(cv2_img2.flatten()))}')\n",
    "print('='*50)\n",
    "print('<<cv2_mask2>>')\n",
    "print(f'Shape : {cv2_mask2.shape}')\n",
    "print(f'Dtype : {cv2_mask2.dtype}')\n",
    "print(f'요소 : {set(cv2_mask2.flatten())}')\n",
    "\n",
    "\n",
    "plt.imshow(cv2_mask2)\n",
    "# plt.imshow(cv2_mask2, cmap='gray') # 이렇게 읽어도 컬러로 나옴"
   ]
  },
  {
   "cell_type": "markdown",
   "id": "textile-complexity",
   "metadata": {},
   "source": [
    "예상한대로 3차원 RGB의 이미지가 출력됨"
   ]
  },
  {
   "cell_type": "raw",
   "id": "rocky-teaching",
   "metadata": {},
   "source": []
  },
  {
   "cell_type": "markdown",
   "id": "armed-millennium",
   "metadata": {},
   "source": [
    "## 2. PIL로 이미지 읽어오기"
   ]
  },
  {
   "cell_type": "code",
   "execution_count": 45,
   "id": "greatest-physiology",
   "metadata": {},
   "outputs": [
    {
     "name": "stdout",
     "output_type": "stream",
     "text": [
      "<class 'PIL.JpegImagePlugin.JpegImageFile'>\n",
      "(281, 500, 3) (281, 500)\n",
      "Image.open의 Type : <class 'PIL.JpegImagePlugin.JpegImageFile'>\n",
      "\n",
      "<<pil_img1>>\n",
      "Shape : (281, 500, 3)\n",
      "Dtype : uint8\n",
      "요소갯수 : 256\n",
      "==================================================\n",
      "<<pil_mask1>>\n",
      "Shape : (281, 500)\n",
      "Dtype : uint8\n",
      "요소 : {0, 1, 15, 255}\n"
     ]
    },
    {
     "data": {
      "text/plain": [
       "<matplotlib.image.AxesImage at 0x7f50af8cc7d0>"
      ]
     },
     "execution_count": 45,
     "metadata": {},
     "output_type": "execute_result"
    },
    {
     "data": {
      "image/png": "[encoded data removed]",
      "text/plain": [
       "<Figure size 432x288 with 1 Axes>"
      ]
     },
     "metadata": {
      "needs_background": "light"
     },
     "output_type": "display_data"
    }
   ],
   "source": [
    "# import PIL로 해서 PIL.Image를 하면 모듈을 못 불러옴.\n",
    "# PIL에서는 __init__.py에 자동으로 Image모듈을 불러오지 못하기 때문.\n",
    "# 그래서 모듈을 콕 집어서 불러와야함.\n",
    "from PIL import Image \n",
    "\n",
    "pil_img1 = Image.open(IMG_PATH) # <class 'PIL.JpegImagePlugin.JpegImageFile'>\n",
    "pil_mask1 = Image.open(MASK_PATH)\n",
    "np_pil_img1 = np.array(pil_img1) # jpegimage형태로는 학습할 수 없기 때문에 array로 변환해야함\n",
    "np_pil_mask1 = np.array(pil_mask1)\n",
    "\n",
    "print(f'Image.open의 Type : {type(pil_img1)}')\n",
    "print()\n",
    "print('<<pil_img1>>')\n",
    "print(f'Shape : {np_pil_img1.shape}')\n",
    "print(f'Dtype : {np_pil_img1.dtype}')\n",
    "print(f'요소갯수 : {len(set(np_pil_img1.flatten()))}')\n",
    "print('='*50)\n",
    "print('<<pil_mask1>>')\n",
    "print(f'Shape : {np_pil_mask1.shape}')\n",
    "print(f'Dtype : {np_pil_mask1.dtype}')\n",
    "print(f'요소 : {set(np_pil_mask1.flatten())}')\n",
    "\n",
    "plt.imshow(np_pil_mask1)\n",
    "# plt.imshow(np_pil_mask1, cmap='gray')"
   ]
  },
  {
   "cell_type": "markdown",
   "id": "subtle-velvet",
   "metadata": {},
   "source": [
    "PIL로 불러와 array로 변환하면 2차원 형태가 되어 색이 없음. -> 학습하는데 문제가 됨"
   ]
  },
  {
   "cell_type": "code",
   "execution_count": null,
   "id": "coordinate-football",
   "metadata": {},
   "outputs": [],
   "source": []
  },
  {
   "cell_type": "markdown",
   "id": "superb-moore",
   "metadata": {},
   "source": [
    "## 3. MATPLOTLIB으로 읽어오기"
   ]
  },
  {
   "cell_type": "code",
   "execution_count": 43,
   "id": "fancy-benjamin",
   "metadata": {},
   "outputs": [
    {
     "name": "stdout",
     "output_type": "stream",
     "text": [
      "plt.imread의 Type : <class 'numpy.ndarray'>\n",
      "\n",
      "<<plt_img1>>\n",
      "Shape : (281, 500, 3)\n",
      "Dtype : uint8\n",
      "요소갯수 : 256\n",
      "==================================================\n",
      "<<plt_mask1>>\n",
      "Shape : (281, 500, 4)\n",
      "Dtype : float32\n",
      "요소 : {0.0, 1.0, 0.5019608, 0.8784314, 0.7529412}\n"
     ]
    },
    {
     "data": {
      "text/plain": [
       "<matplotlib.image.AxesImage at 0x7f50af9e5b90>"
      ]
     },
     "execution_count": 43,
     "metadata": {},
     "output_type": "execute_result"
    },
    {
     "data": {
      "image/png": "[encoded data removed]",
      "text/plain": [
       "<Figure size 432x288 with 1 Axes>"
      ]
     },
     "metadata": {
      "needs_background": "light"
     },
     "output_type": "display_data"
    }
   ],
   "source": [
    "plt_img1 = plt.imread(IMG_PATH)\n",
    "plt_mask1 = plt.imread(MASK_PATH)\n",
    "\n",
    "print(f'plt.imread의 Type : {type(plt_img1)}')\n",
    "print()\n",
    "print('<<plt_img1>>')\n",
    "print(f'Shape : {plt_img1.shape}')\n",
    "print(f'Dtype : {plt_img1.dtype}')\n",
    "print(f'요소갯수 : {len(set(plt_img1.flatten()))}')\n",
    "print('='*50)\n",
    "print('<<plt_mask1>>')\n",
    "print(f'Shape : {plt_mask1.shape}')\n",
    "print(f'Dtype : {plt_mask1.dtype}')\n",
    "print(f'요소 : {set(plt_mask1.flatten())}')\n",
    "\n",
    "plt.imshow(plt_mask1)"
   ]
  },
  {
   "cell_type": "markdown",
   "id": "marine-arcade",
   "metadata": {},
   "source": [
    "MATPLOTLIB는 MASK를 4채널로 불러옴.. 뭐지??"
   ]
  },
  {
   "cell_type": "code",
   "execution_count": null,
   "id": "postal-preserve",
   "metadata": {},
   "outputs": [],
   "source": []
  },
  {
   "cell_type": "markdown",
   "id": "abandoned-haiti",
   "metadata": {},
   "source": [
    "## 4. Tensorflow로 읽어오기"
   ]
  },
  {
   "cell_type": "markdown",
   "id": "comprehensive-dodge",
   "metadata": {},
   "source": [
    "### 1) numpy로 변환"
   ]
  },
  {
   "cell_type": "code",
   "execution_count": 61,
   "id": "lesser-connecticut",
   "metadata": {},
   "outputs": [
    {
     "name": "stdout",
     "output_type": "stream",
     "text": [
      "tf.keras.preprocessing.image.load_img의 Type : <class 'PIL.JpegImagePlugin.JpegImageFile'>\n",
      "\n",
      "<<tf_img2>>\n",
      "Type : <class 'numpy.ndarray'>\n",
      "Shape : (281, 500, 3)\n",
      "Dtype : uint8\n",
      "요소갯수 : 256\n",
      "==================================================\n",
      "<<tf_mask2>>\n",
      "Type : <class 'numpy.ndarray'>\n",
      "Shape : (281, 500, 3)\n",
      "Dtype : uint8\n",
      "요소 : {0, 224, 128, 192}\n"
     ]
    },
    {
     "data": {
      "text/plain": [
       "<matplotlib.image.AxesImage at 0x7f50429fae10>"
      ]
     },
     "execution_count": 61,
     "metadata": {},
     "output_type": "execute_result"
    },
    {
     "data": {
      "image/png": "[encoded data removed]",
      "text/plain": [
       "<Figure size 432x288 with 1 Axes>"
      ]
     },
     "metadata": {
      "needs_background": "light"
     },
     "output_type": "display_data"
    }
   ],
   "source": [
    "from tensorflow.keras.preprocessing import image\n",
    "\n",
    "tf_img1 = image.load_img(IMG_PATH)\n",
    "tf_mask1 = image.load_img(MASK_PATH)\n",
    "tf_img2 = np.array(tf_img1)\n",
    "tf_mask2 = np.array(tf_mask1)\n",
    "\n",
    "print(f'tf.keras.preprocessing.image.load_img의 Type : {type(tf_img1)}')\n",
    "print()\n",
    "print('<<tf_img2>>')\n",
    "print(f'Type : {type(tf_img2)}')\n",
    "print(f'Shape : {tf_img2.shape}')\n",
    "print(f'Dtype : {tf_img2.dtype}')\n",
    "print(f'요소갯수 : {len(set(tf_img2.flatten()))}')\n",
    "print('='*50)\n",
    "print('<<tf_mask2>>')\n",
    "print(f'Type : {type(tf_mask2)}')\n",
    "print(f'Shape : {tf_mask2.shape}')\n",
    "print(f'Dtype : {tf_mask2.dtype}')\n",
    "print(f'요소 : {set(tf_mask2.flatten())}')\n",
    "plt.imshow(tf_mask2)"
   ]
  },
  {
   "cell_type": "markdown",
   "id": "biological-lesson",
   "metadata": {},
   "source": [
    "### 2) tf.keras.preprocessing.img_to_array로 변환"
   ]
  },
  {
   "cell_type": "code",
   "execution_count": 62,
   "id": "human-update",
   "metadata": {},
   "outputs": [
    {
     "name": "stderr",
     "output_type": "stream",
     "text": [
      "Clipping input data to the valid range for imshow with RGB data ([0..1] for floats or [0..255] for integers).\n"
     ]
    },
    {
     "name": "stdout",
     "output_type": "stream",
     "text": [
      "<<tf_img3>>\n",
      "Type : <class 'numpy.ndarray'>\n",
      "Shape : (281, 500, 3)\n",
      "Dtype : float32\n",
      "요소갯수 : 256\n",
      "==================================================\n",
      "<<tf_mask3>>\n",
      "Type : <class 'numpy.ndarray'>\n",
      "Shape : (281, 500, 3)\n",
      "Dtype : float32\n",
      "요소 : {0.0, 224.0, 128.0, 192.0}\n"
     ]
    },
    {
     "data": {
      "text/plain": [
       "<matplotlib.image.AxesImage at 0x7f5042956c90>"
      ]
     },
     "execution_count": 62,
     "metadata": {},
     "output_type": "execute_result"
    },
    {
     "data": {
      "image/png": "[encoded data removed]",
      "text/plain": [
       "<Figure size 432x288 with 1 Axes>"
      ]
     },
     "metadata": {
      "needs_background": "light"
     },
     "output_type": "display_data"
    }
   ],
   "source": [
    "from tensorflow.keras.preprocessing import image\n",
    "\n",
    "tf_img3 = image.img_to_array(tf_img1)\n",
    "tf_mask3 = image.img_to_array(tf_mask1)\n",
    "\n",
    "# tf_mask3\n",
    "# print(f'tf.keras.preprocessing.image.load_img의 Type : {type(tf_img1)}')\n",
    "# print()\n",
    "print('<<tf_img3>>')\n",
    "print(f'Type : {type(tf_img3)}')\n",
    "print(f'Shape : {tf_img3.shape}')\n",
    "print(f'Dtype : {tf_img3.dtype}')\n",
    "print(f'요소갯수 : {len(set(tf_img3.flatten()))}')\n",
    "print('='*50)\n",
    "print('<<tf_mask3>>')\n",
    "print(f'Type : {type(tf_mask3)}')\n",
    "print(f'Shape : {tf_mask3.shape}')\n",
    "print(f'Dtype : {tf_mask3.dtype}')\n",
    "print(f'요소 : {set(tf_mask3.flatten())}')\n",
    "plt.imshow(tf_mask3)"
   ]
  },
  {
   "cell_type": "code",
   "execution_count": null,
   "id": "attempted-friendship",
   "metadata": {},
   "outputs": [],
   "source": []
  }
 ],
 "metadata": {
  "kernelspec": {
   "display_name": "Python 3",
   "language": "python",
   "name": "python3"
  },
  "language_info": {
   "codemirror_mode": {
    "name": "ipython",
    "version": 3
   },
   "file_extension": ".py",
   "mimetype": "text/x-python",
   "name": "python",
   "nbconvert_exporter": "python",
   "pygments_lexer": "ipython3",
   "version": "3.6.13"
  }
 },
 "nbformat": 4,
 "nbformat_minor": 5
}
