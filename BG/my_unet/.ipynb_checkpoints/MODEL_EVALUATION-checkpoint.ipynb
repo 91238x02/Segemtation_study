{
 "cells": [
  {
   "cell_type": "code",
   "execution_count": 83,
   "id": "e4a050a6",
   "metadata": {},
   "outputs": [
    {
     "name": "stdout",
     "output_type": "stream",
     "text": [
      "/home/kimbg/SPN/my_unet\n"
     ]
    }
   ],
   "source": [
    "!pwd"
   ]
  },
  {
   "cell_type": "code",
   "execution_count": 84,
   "id": "d0ea4b61",
   "metadata": {},
   "outputs": [],
   "source": [
    "import glob, os\n",
    "import cv2\n",
    "import numpy as np\n",
    "import matplotlib.pyplot as plt"
   ]
  },
  {
   "cell_type": "code",
   "execution_count": 85,
   "id": "bfa7c192",
   "metadata": {
    "tags": []
   },
   "outputs": [
    {
     "name": "stdout",
     "output_type": "stream",
     "text": [
      "이미지 갯수 : 2913\n",
      "마스크 갯수 : 2913\n",
      "['2007_000032.jpg', '2007_000033.jpg', '2007_000039.jpg']\n",
      "['2007_000032.png', '2007_000033.png', '2007_000039.png']\n"
     ]
    }
   ],
   "source": [
    "image_dataset_path = '/data1/kimbg/voc2012/SegmentationDB/image'\n",
    "gt_dataset_path = '/data1/kimbg/voc2012/SegmentationClass'\n",
    "img_dataset_abspath = sorted(glob.glob(os.path.join(image_dataset_path, '*')))\n",
    "mask_dataset_abspath = sorted(glob.glob(os.path.join(gt_dataset_path, '*')))\n",
    "print(f'이미지 갯수 : {len(img_dataset_abspath)}')\n",
    "print(f'마스크 갯수 : {len(mask_dataset_abspath)}')\n",
    "print(list(map(os.path.basename, img_dataset_abspath))[:3])\n",
    "print(list(map(os.path.basename, mask_dataset_abspath))[:3])"
   ]
  },
  {
   "cell_type": "code",
   "execution_count": 86,
   "id": "ac1815b0",
   "metadata": {},
   "outputs": [],
   "source": [
    "VOC_COLORMAP = [[0, 0, 0], [128, 0, 0], [0, 128, 0], [128, 128, 0],\n",
    "                [0, 0, 128], [128, 0, 128], [0, 128, 128], [128, 128, 128],\n",
    "                [64, 0, 0], [192, 0, 0], [64, 128, 0], [192, 128, 0],\n",
    "                [64, 0, 128], [192, 0, 128], [64, 128, 128], [192, 128, 128],\n",
    "                [0, 64, 0], [128, 64, 0], [0, 192, 0], [128, 192, 0],\n",
    "                [0, 64, 128]]\n",
    "\n",
    "VOC_CLASSES = [\n",
    "    'background', 'aeroplane', 'bicycle', 'bird', 'boat', 'bottle', 'bus',\n",
    "    'car', 'cat', 'chair', 'cow', 'diningtable', 'dog', 'horse', 'motorbike',\n",
    "    'person', 'potted plant', 'sheep', 'sofa', 'train', 'tv/monitor']\n",
    "\n",
    "## 의문 ##\n",
    "# 엣지 클래스도 넣어야하는거 아닌가..???"
   ]
  },
  {
   "cell_type": "code",
   "execution_count": 87,
   "id": "518976fb",
   "metadata": {},
   "outputs": [],
   "source": [
    "# 채널별로 나눠진 클래스 마스크를 시각화.\n",
    "def display_multiple_img(mask1, VOC_CLASSES, rows = 1, cols=1):\n",
    "    figure, ax = plt.subplots(nrows=rows, ncols=cols)\n",
    "    for label, i in zip(VOC_CLASSES, range(rows*cols)):\n",
    "#         print(label)\n",
    "        ax.ravel()[i].imshow(mask1[:,:,i], cmap='gray')\n",
    "        ax.ravel()[i].set_title(label)\n",
    "        ax.ravel()[i].set_axis_off()\n",
    "    plt.tight_layout()\n",
    "    plt.show()\n",
    "\n",
    "# 모델 인풋에 넣기 적합한 이미지로 변환\n",
    "def mk_test_image(path, size=(256,256)):\n",
    "    test_img1 = cv2.imread(path)\n",
    "    test_img1 = cv2.cvtColor(test_img1, cv2.COLOR_BGR2RGB)/255\n",
    "    test_img1 = cv2.resize(test_img1, dsize=(size[0], size[1]), interpolation=cv2.INTER_AREA)\n",
    "    if len(test_img1.shape) == 3:\n",
    "        test_img1 = np.expand_dims(test_img1, axis=0)\n",
    "    return test_img1\n",
    "\n",
    "# 21채널로 예측된 이미지를 COLORMAP과 매핑\n",
    "def color_mapping(pred_img, color_map, size=(256,256)):\n",
    "    argmax_img = np.argmax(pred_img, axis=-1)\n",
    "    color_pred = np.zeros((size[0],size[1], 3))\n",
    "    for index_label, color in enumerate(color_map):\n",
    "        bool_mask = (argmax_img == index_label)\n",
    "        color_pred[bool_mask] = color\n",
    "    return color_pred/255"
   ]
  },
  {
   "cell_type": "code",
   "execution_count": 88,
   "id": "cbb6b1b6",
   "metadata": {},
   "outputs": [],
   "source": [
    "test_img_path = img_dataset_abspath[0]\n",
    "test_mask_path = mask_dataset_abspath[0]\n",
    "size = (256,256)\n",
    "\n",
    "test_img1 = mk_test_image(test_img_path, size)"
   ]
  },
  {
   "cell_type": "code",
   "execution_count": 9,
   "id": "6babdf56",
   "metadata": {
    "tags": []
   },
   "outputs": [],
   "source": [
    "# 모델 불러오기\n",
    "from tensorflow.keras import models\n",
    "model_path = '/home/kimbg/SPN/my_unet/weight/unet_voc_ms1.h5'\n",
    "model = models.load_model(model_path)"
   ]
  },
  {
   "cell_type": "code",
   "execution_count": 89,
   "id": "19c0f639",
   "metadata": {},
   "outputs": [
    {
     "data": {
      "image/png": "[encoded data removed]",
      "text/plain": [
       "<Figure size 432x288 with 21 Axes>"
      ]
     },
     "metadata": {
      "needs_background": "light"
     },
     "output_type": "display_data"
    }
   ],
   "source": [
    "pred_img1 = model.predict(test_img1)\n",
    "pred_img1 = np.squeeze(pred_img1)\n",
    "display_multiple_img(pred_img1, VOC_CLASSES, 3, 7)"
   ]
  },
  {
   "cell_type": "raw",
   "id": "a1b32923",
   "metadata": {},
   "source": [
    "1. 예측한 값에서 가장 큰 값을 골라 1을 만들고, 나머지는 0으로 만들어야함.\n",
    "1. 1) np.argmax(axis=-1)해서 채널방향으로 가장 큰 값의 index를 찾자.\n",
    "1. 2) 그 index에 해당하는 요소를 1로 변경, 나머지는 0으로 변경."
   ]
  },
  {
   "cell_type": "code",
   "execution_count": 90,
   "id": "97936b63",
   "metadata": {},
   "outputs": [
    {
     "data": {
      "text/plain": [
       "<matplotlib.image.AxesImage at 0x7f93703bbc90>"
      ]
     },
     "execution_count": 90,
     "metadata": {},
     "output_type": "execute_result"
    },
    {
     "data": {
      "image/png": "[encoded data removed]",
      "text/plain": [
       "<Figure size 432x288 with 1 Axes>"
      ]
     },
     "metadata": {
      "needs_background": "light"
     },
     "output_type": "display_data"
    }
   ],
   "source": [
    "color_img = color_mapping(pred_img1, VOC_COLORMAP, (256,256))\n",
    "plt.imshow(color_img)"
   ]
  },
  {
   "cell_type": "code",
   "execution_count": 93,
   "id": "b343204e",
   "metadata": {},
   "outputs": [
    {
     "data": {
      "text/plain": [
       "(256, 256, 3)"
      ]
     },
     "execution_count": 93,
     "metadata": {},
     "output_type": "execute_result"
    }
   ],
   "source": [
    "# Ground Truth과 Prediction 비교\n",
    "test_mask1 = cv2.imread(test_mask_path)\n",
    "test_mask1 = cv2.cvtColor(test_mask1, cv2.COLOR_BGR2RGB)/255\n",
    "test_mask1 = cv2.resize(test_mask1, dsize=size, interpolation=cv2.INTER_AREA)"
   ]
  },
  {
   "cell_type": "code",
   "execution_count": 99,
   "id": "1521fb5f",
   "metadata": {},
   "outputs": [],
   "source": [
    "def show_diff(X, Y):\n",
    "    plt.figure(figsize=(10, 5))\n",
    "\n",
    "    ax = plt.subplot(1,2,1)\n",
    "    plt.title('Ground Truth')\n",
    "    plt.imshow(Y)\n",
    "\n",
    "    ax = plt.subplot(1,2,2)\n",
    "    plt.title('Prediction')\n",
    "    plt.imshow(X)"
   ]
  },
  {
   "cell_type": "code",
   "execution_count": 100,
   "id": "993cd783",
   "metadata": {},
   "outputs": [
    {
     "data": {
      "image/png": "[encoded data removed]",
      "text/plain": [
       "<Figure size 720x360 with 2 Axes>"
      ]
     },
     "metadata": {
      "needs_background": "light"
     },
     "output_type": "display_data"
    }
   ],
   "source": [
    "show_diff(color_img, test_mask1)"
   ]
  },
  {
   "cell_type": "code",
   "execution_count": null,
   "id": "049721ad",
   "metadata": {},
   "outputs": [],
   "source": []
  },
  {
   "cell_type": "code",
   "execution_count": null,
   "id": "76248873",
   "metadata": {},
   "outputs": [],
   "source": []
  },
  {
   "cell_type": "code",
   "execution_count": null,
   "id": "69b3b8f1",
   "metadata": {},
   "outputs": [],
   "source": []
  },
  {
   "cell_type": "code",
   "execution_count": null,
   "id": "d4c86397",
   "metadata": {},
   "outputs": [],
   "source": []
  },
  {
   "cell_type": "code",
   "execution_count": null,
   "id": "0229222b",
   "metadata": {},
   "outputs": [],
   "source": []
  }
 ],
 "metadata": {
  "kernelspec": {
   "display_name": "Python 3",
   "language": "python",
   "name": "python3"
  },
  "language_info": {
   "codemirror_mode": {
    "name": "ipython",
    "version": 3
   },
   "file_extension": ".py",
   "mimetype": "text/x-python",
   "name": "python",
   "nbconvert_exporter": "python",
   "pygments_lexer": "ipython3",
   "version": "3.7.10"
  }
 },
 "nbformat": 4,
 "nbformat_minor": 5
}
