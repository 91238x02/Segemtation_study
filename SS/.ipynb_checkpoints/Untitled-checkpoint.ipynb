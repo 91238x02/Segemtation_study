{
 "cells": [
  {
   "cell_type": "code",
   "execution_count": 2,
   "id": "5a73da7a-89cf-46bf-b934-087aadc7ad18",
   "metadata": {},
   "outputs": [
    {
     "name": "stdout",
     "output_type": "stream",
     "text": [
      "True\n",
      "True\n"
     ]
    }
   ],
   "source": [
    "##########OTHER_STUFF(jupyterNotebook)#############################\n",
    "#Check out Gpu setting1(in jupyter script)\n",
    "import tensorflow as tf \n",
    "print(tf.test.is_built_with_cuda())  #True >> using Gpu \n",
    "print(tf.test.is_gpu_available(cuda_only=False, min_cuda_compute_capability=None))  #True >> using Gpu "
   ]
  },
  {
   "cell_type": "code",
   "execution_count": 3,
   "id": "03d14895-4be9-4096-b50a-769e8bfdbba3",
   "metadata": {},
   "outputs": [
    {
     "name": "stdout",
     "output_type": "stream",
     "text": [
      "[name: \"/device:CPU:0\"\n",
      "device_type: \"CPU\"\n",
      "memory_limit: 268435456\n",
      "locality {\n",
      "}\n",
      "incarnation: 3183271178889811326\n",
      ", name: \"/device:GPU:0\"\n",
      "device_type: \"GPU\"\n",
      "memory_limit: 7018292839\n",
      "locality {\n",
      "  bus_id: 1\n",
      "  links {\n",
      "  }\n",
      "}\n",
      "incarnation: 8631879334132916805\n",
      "physical_device_desc: \"device: 0, name: GeForce RTX 2070 SUPER, pci bus id: 0000:06:00.0, compute capability: 7.5\"\n",
      "]\n"
     ]
    }
   ],
   "source": [
    "#Check out Gpu setting2(in jupyter script)\n",
    "from tensorflow.python.client import device_lib\n",
    "print(device_lib.list_local_devices())  #print out details of current drive status"
   ]
  },
  {
   "cell_type": "code",
   "execution_count": 4,
   "id": "81ce7811-5d1c-46ae-9f0d-92db5c99d19c",
   "metadata": {},
   "outputs": [
    {
     "data": {
      "text/plain": [
       "'2.1.0'"
      ]
     },
     "execution_count": 4,
     "metadata": {},
     "output_type": "execute_result"
    }
   ],
   "source": [
    "#Tensor flow ver. check\n",
    "import tensorflow as tf\n",
    "tf.__version__  #2.1.0  #if you follow above packages 'tensorflow-gpu==2.1.0'"
   ]
  }
 ],
 "metadata": {
  "kernelspec": {
   "display_name": "py37_seg",
   "language": "python",
   "name": "py37_seg"
  },
  "language_info": {
   "codemirror_mode": {
    "name": "ipython",
    "version": 3
   },
   "file_extension": ".py",
   "mimetype": "text/x-python",
   "name": "python",
   "nbconvert_exporter": "python",
   "pygments_lexer": "ipython3",
   "version": "3.7.10"
  }
 },
 "nbformat": 4,
 "nbformat_minor": 5
}
